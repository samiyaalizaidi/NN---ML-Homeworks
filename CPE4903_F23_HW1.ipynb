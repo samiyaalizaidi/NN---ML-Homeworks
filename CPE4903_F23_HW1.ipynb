{
 "cells": [
  {
   "cell_type": "markdown",
   "id": "49ca4f16",
   "metadata": {},
   "source": [
    "<center><h1> CPE 4903 Fall 2023: Homework 1</h1></center>\n",
    "<center><h3> Samiya A. Zaidi (szaidi4)</h3></center>\n",
    "\n",
    "\n",
    "This homework provides a few basic Python code examples. Other than Exercise 1, you only need to \"Run\" every cell and show the results. "
   ]
  },
  {
   "cell_type": "markdown",
   "id": "1d52fcbb",
   "metadata": {},
   "source": [
    "### Submission:\n",
    " * Submit this notebook file and the pdf version.\n",
    " * Deadline: 11:59 pm, 8/23"
   ]
  },
  {
   "cell_type": "markdown",
   "id": "08f135df",
   "metadata": {},
   "source": [
    "### First, check the version of your Python. We are using Python 3."
   ]
  },
  {
   "cell_type": "code",
   "execution_count": 1,
   "id": "8039a74d",
   "metadata": {},
   "outputs": [
    {
     "name": "stdout",
     "output_type": "stream",
     "text": [
      "Python 3.11.4\n"
     ]
    }
   ],
   "source": [
    "!python --version"
   ]
  },
  {
   "cell_type": "markdown",
   "id": "43f3af3e",
   "metadata": {},
   "source": [
    "### Exercise 1: Hello World\n",
    "####  Change the name in the following code to yours."
   ]
  },
  {
   "cell_type": "code",
   "execution_count": 2,
   "id": "8eccf574",
   "metadata": {},
   "outputs": [
    {
     "name": "stdout",
     "output_type": "stream",
     "text": [
      "Hello world!\n",
      "This is Samiya's greeting!\n"
     ]
    }
   ],
   "source": [
    "print('Hello world!')\n",
    "\n",
    "print('This is Samiya\\'s greeting!')"
   ]
  },
  {
   "cell_type": "markdown",
   "id": "de599c0a",
   "metadata": {},
   "source": [
    "### Exercise 2: List and for loop"
   ]
  },
  {
   "cell_type": "code",
   "execution_count": 3,
   "id": "913991fa",
   "metadata": {},
   "outputs": [
    {
     "name": "stdout",
     "output_type": "stream",
     "text": [
      "I like apple\n",
      "I like orange\n",
      "I like banana\n"
     ]
    }
   ],
   "source": [
    "food = ['apple', 'orange', 'banana']\n",
    "    \n",
    "for f in food:\n",
    "    print('I like ' + f)"
   ]
  },
  {
   "cell_type": "markdown",
   "id": "870e91d4",
   "metadata": {},
   "source": [
    "### Exercise 3: Define a function of 2nd-order polynomial, $y=ax^2+bx+c$"
   ]
  },
  {
   "cell_type": "code",
   "execution_count": 4,
   "id": "ecce2aab",
   "metadata": {},
   "outputs": [],
   "source": [
    "def foo(x):\n",
    "    a = 2\n",
    "    b = -3\n",
    "    c = 5\n",
    "    \n",
    "    if x > 0:\n",
    "        y = a*x**2 + b*x + c\n",
    "    else:\n",
    "        y = 0\n",
    "    return y"
   ]
  },
  {
   "cell_type": "code",
   "execution_count": 5,
   "id": "b7b01d70",
   "metadata": {},
   "outputs": [
    {
     "name": "stdout",
     "output_type": "stream",
     "text": [
      "x = 3 y = 14\n",
      "x = 0 y = 0\n"
     ]
    }
   ],
   "source": [
    "x1 = 3\n",
    "x2 = 0\n",
    "\n",
    "print ('x =', x1, 'y =', foo(x1))\n",
    "print ('x =', x2, 'y =', foo(x2))"
   ]
  },
  {
   "cell_type": "markdown",
   "id": "7a347e70",
   "metadata": {},
   "source": [
    "### Exercise 4: Basic plotting\n",
    "#### Import the Matplotlib.pyplot plotting package"
   ]
  },
  {
   "cell_type": "code",
   "execution_count": 6,
   "id": "da369559",
   "metadata": {},
   "outputs": [],
   "source": [
    "import matplotlib.pyplot as plt"
   ]
  },
  {
   "cell_type": "markdown",
   "id": "9c49914f",
   "metadata": {},
   "source": [
    "#### Create a list of numbers for the x-axis, from -5 to 5"
   ]
  },
  {
   "cell_type": "code",
   "execution_count": 7,
   "id": "a8e5fab5",
   "metadata": {},
   "outputs": [
    {
     "name": "stdout",
     "output_type": "stream",
     "text": [
      "[-5.0, -4.5, -4.0, -3.5, -3.0, -2.5, -2.0, -1.5, -1.0, -0.5, 0.0, 0.5, 1.0, 1.5, 2.0, 2.5, 3.0, 3.5, 4.0, 4.5, 5.0]\n"
     ]
    }
   ],
   "source": [
    "x = []\n",
    "step = 0.5\n",
    "\n",
    "for i in range(21):\n",
    "    x.append(-5+step*i)\n",
    "    \n",
    "print (x)"
   ]
  },
  {
   "cell_type": "markdown",
   "id": "1b76073c",
   "metadata": {},
   "source": [
    "#### Calculate the values of $y$ defined previously, using List Comprehension"
   ]
  },
  {
   "cell_type": "code",
   "execution_count": 8,
   "id": "1777266c",
   "metadata": {},
   "outputs": [
    {
     "name": "stdout",
     "output_type": "stream",
     "text": [
      "[0, 0, 0, 0, 0, 0, 0, 0, 0, 0, 0, 4.0, 4.0, 5.0, 7.0, 10.0, 14.0, 19.0, 25.0, 32.0, 40.0]\n"
     ]
    }
   ],
   "source": [
    "y = [foo(x[i]) for i in range(21)]\n",
    "    \n",
    "print (y)"
   ]
  },
  {
   "cell_type": "markdown",
   "id": "32a4dd3e",
   "metadata": {},
   "source": [
    "#### Plot the function"
   ]
  },
  {
   "cell_type": "code",
   "execution_count": 9,
   "id": "7af2055a",
   "metadata": {},
   "outputs": [
    {
     "data": {
      "image/png": "[encoded data removed]",
      "text/plain": [
       "<Figure size 1000x600 with 1 Axes>"
      ]
     },
     "metadata": {},
     "output_type": "display_data"
    }
   ],
   "source": [
    "plt.figure(figsize=(10, 6))\n",
    "plt.title('Example')\n",
    "\n",
    "plt.plot(x, y, c='DodgerBlue', linewidth=3)\n",
    "\n",
    "plt.grid()\n",
    "plt.show()"
   ]
  }
 ],
 "metadata": {
  "kernelspec": {
   "display_name": "Python 3",
   "language": "python",
   "name": "python3"
  },
  "language_info": {
   "codemirror_mode": {
    "name": "ipython",
    "version": 3
   },
   "file_extension": ".py",
   "mimetype": "text/x-python",
   "name": "python",
   "nbconvert_exporter": "python",
   "pygments_lexer": "ipython3",
   "version": "3.11.4"
  }
 },
 "nbformat": 4,
 "nbformat_minor": 5
}
