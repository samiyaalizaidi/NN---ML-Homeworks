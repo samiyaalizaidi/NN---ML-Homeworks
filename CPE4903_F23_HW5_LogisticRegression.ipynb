{
 "cells": [
  {
   "cell_type": "markdown",
   "metadata": {},
   "source": [
    "# <center>CPE 4903 Fall 2023: Homework 5 - Logistic Regression</center>"
   ]
  },
  {
   "cell_type": "markdown",
   "metadata": {},
   "source": [
    "### Submission:\n",
    " * Submit this notebook file and the pdf version.\n",
    " * Deadline: 11:59 pm, 9/26"
   ]
  },
  {
   "cell_type": "markdown",
   "metadata": {},
   "source": [
    "### Assignment Objective:\n",
    "\n",
    "You are given a hypothetical graduate school admission record with two scores:\n",
    "\n",
    "- GPA\n",
    "- GRE\n",
    "- Admit: 1: student was admitted, 0: student was rejected\n",
    "\n",
    "Your mission is to build a classification model using logistic regression. You will perform a machine learning workflow that includes the model performance evaluation. \n",
    "\n",
    "#### <font color = red> You will be using the NumPy functions we developed in class to perform the tasks.</font> \n",
    "\n",
    "#### The function library is included in the file, `gradient_unil_lib.py`.  "
   ]
  },
  {
   "cell_type": "markdown",
   "metadata": {},
   "source": [
    "## ML Workflow\n",
    "\n",
    "- #### Step 1: Train-Test Data split \n",
    "- #### Step 2: Feature Selection\n",
    "- #### Step 3: Train the model (training data) and make prediction (test data)\n",
    "- #### Step 4: Regression Model Evaluation\n",
    "- #### Step 5: Repeat the workflow until satisfactory performance is achieved"
   ]
  },
  {
   "cell_type": "markdown",
   "metadata": {
    "colab_type": "text",
    "id": "gorjhNWk1jYI"
   },
   "source": [
    "### Import Tools"
   ]
  },
  {
   "cell_type": "code",
   "execution_count": 123,
   "metadata": {
    "colab": {},
    "colab_type": "code",
    "id": "ICB6ibhd1oo6"
   },
   "outputs": [],
   "source": [
    "import numpy as np\n",
    "import matplotlib.pyplot as plt\n",
    "import copy\n",
    "import math\n",
    "\n",
    "import pandas as pd\n",
    "\n",
    "%matplotlib inline"
   ]
  },
  {
   "cell_type": "markdown",
   "metadata": {},
   "source": [
    "### Import Gradient Descent Algorithms that we implemented using NumPy"
   ]
  },
  {
   "cell_type": "code",
   "execution_count": 124,
   "metadata": {},
   "outputs": [],
   "source": [
    "## Please import the necessary library functions from gradient_util_lib\n",
    "from gradient_util_lib import *"
   ]
  },
  {
   "cell_type": "markdown",
   "metadata": {
    "colab_type": "text",
    "id": "OZluhUmFzgwN"
   },
   "source": [
    "## <font color=green>1. Load the Dataset and Check Out Data Statistics</font>"
   ]
  },
  {
   "cell_type": "code",
   "execution_count": 125,
   "metadata": {},
   "outputs": [],
   "source": [
    "admission = pd.read_csv('admissions.csv')"
   ]
  },
  {
   "cell_type": "markdown",
   "metadata": {},
   "source": [
    "* `admission` is a pandas __DataFrame__ that contains the dataset, including the column labels."
   ]
  },
  {
   "cell_type": "markdown",
   "metadata": {},
   "source": [
    "### This displays the first 5 rows of the DataFrame."
   ]
  },
  {
   "cell_type": "code",
   "execution_count": 126,
   "metadata": {},
   "outputs": [
    {
     "data": {
      "text/html": [
       "<div>\n",
       "<style scoped>\n",
       "    .dataframe tbody tr th:only-of-type {\n",
       "        vertical-align: middle;\n",
       "    }\n",
       "\n",
       "    .dataframe tbody tr th {\n",
       "        vertical-align: top;\n",
       "    }\n",
       "\n",
       "    .dataframe thead th {\n",
       "        text-align: right;\n",
       "    }\n",
       "</style>\n",
       "<table border=\"1\" class=\"dataframe\">\n",
       "  <thead>\n",
       "    <tr style=\"text-align: right;\">\n",
       "      <th></th>\n",
       "      <th>GPA</th>\n",
       "      <th>GRE</th>\n",
       "      <th>Admit</th>\n",
       "    </tr>\n",
       "  </thead>\n",
       "  <tbody>\n",
       "    <tr>\n",
       "      <th>0</th>\n",
       "      <td>3.177277</td>\n",
       "      <td>594.102992</td>\n",
       "      <td>0</td>\n",
       "    </tr>\n",
       "    <tr>\n",
       "      <th>1</th>\n",
       "      <td>3.412655</td>\n",
       "      <td>631.528607</td>\n",
       "      <td>0</td>\n",
       "    </tr>\n",
       "    <tr>\n",
       "      <th>2</th>\n",
       "      <td>2.728097</td>\n",
       "      <td>553.714399</td>\n",
       "      <td>0</td>\n",
       "    </tr>\n",
       "    <tr>\n",
       "      <th>3</th>\n",
       "      <td>3.093559</td>\n",
       "      <td>551.089985</td>\n",
       "      <td>0</td>\n",
       "    </tr>\n",
       "    <tr>\n",
       "      <th>4</th>\n",
       "      <td>3.141923</td>\n",
       "      <td>537.184894</td>\n",
       "      <td>0</td>\n",
       "    </tr>\n",
       "  </tbody>\n",
       "</table>\n",
       "</div>"
      ],
      "text/plain": [
       "        GPA         GRE  Admit\n",
       "0  3.177277  594.102992      0\n",
       "1  3.412655  631.528607      0\n",
       "2  2.728097  553.714399      0\n",
       "3  3.093559  551.089985      0\n",
       "4  3.141923  537.184894      0"
      ]
     },
     "execution_count": 126,
     "metadata": {},
     "output_type": "execute_result"
    }
   ],
   "source": [
    "# Please write your code.\n",
    "admission.head(5)"
   ]
  },
  {
   "cell_type": "markdown",
   "metadata": {},
   "source": [
    "### This describes the basic information of the DataFrame"
   ]
  },
  {
   "cell_type": "code",
   "execution_count": 127,
   "metadata": {},
   "outputs": [
    {
     "name": "stdout",
     "output_type": "stream",
     "text": [
      "<class 'pandas.core.frame.DataFrame'>\n",
      "RangeIndex: 644 entries, 0 to 643\n",
      "Data columns (total 3 columns):\n",
      " #   Column  Non-Null Count  Dtype  \n",
      "---  ------  --------------  -----  \n",
      " 0   GPA     644 non-null    float64\n",
      " 1   GRE     644 non-null    float64\n",
      " 2   Admit   644 non-null    int64  \n",
      "dtypes: float64(2), int64(1)\n",
      "memory usage: 15.2 KB\n"
     ]
    }
   ],
   "source": [
    "## Please write your code.\n",
    "admission.info()"
   ]
  },
  {
   "cell_type": "markdown",
   "metadata": {},
   "source": [
    "### This displays the statistics for each numerical column"
   ]
  },
  {
   "cell_type": "code",
   "execution_count": 128,
   "metadata": {},
   "outputs": [
    {
     "data": {
      "text/html": [
       "<div>\n",
       "<style scoped>\n",
       "    .dataframe tbody tr th:only-of-type {\n",
       "        vertical-align: middle;\n",
       "    }\n",
       "\n",
       "    .dataframe tbody tr th {\n",
       "        vertical-align: top;\n",
       "    }\n",
       "\n",
       "    .dataframe thead th {\n",
       "        text-align: right;\n",
       "    }\n",
       "</style>\n",
       "<table border=\"1\" class=\"dataframe\">\n",
       "  <thead>\n",
       "    <tr style=\"text-align: right;\">\n",
       "      <th></th>\n",
       "      <th>GPA</th>\n",
       "      <th>GRE</th>\n",
       "      <th>Admit</th>\n",
       "    </tr>\n",
       "  </thead>\n",
       "  <tbody>\n",
       "    <tr>\n",
       "      <th>count</th>\n",
       "      <td>644.000000</td>\n",
       "      <td>644.000000</td>\n",
       "      <td>644.000000</td>\n",
       "    </tr>\n",
       "    <tr>\n",
       "      <th>mean</th>\n",
       "      <td>3.239936</td>\n",
       "      <td>612.923057</td>\n",
       "      <td>0.378882</td>\n",
       "    </tr>\n",
       "    <tr>\n",
       "      <th>std</th>\n",
       "      <td>0.291907</td>\n",
       "      <td>76.637990</td>\n",
       "      <td>0.485486</td>\n",
       "    </tr>\n",
       "    <tr>\n",
       "      <th>min</th>\n",
       "      <td>2.177100</td>\n",
       "      <td>390.363563</td>\n",
       "      <td>0.000000</td>\n",
       "    </tr>\n",
       "    <tr>\n",
       "      <th>25%</th>\n",
       "      <td>3.045036</td>\n",
       "      <td>560.596793</td>\n",
       "      <td>0.000000</td>\n",
       "    </tr>\n",
       "    <tr>\n",
       "      <th>50%</th>\n",
       "      <td>3.234650</td>\n",
       "      <td>612.104848</td>\n",
       "      <td>0.000000</td>\n",
       "    </tr>\n",
       "    <tr>\n",
       "      <th>75%</th>\n",
       "      <td>3.448415</td>\n",
       "      <td>663.094697</td>\n",
       "      <td>1.000000</td>\n",
       "    </tr>\n",
       "    <tr>\n",
       "      <th>max</th>\n",
       "      <td>4.000000</td>\n",
       "      <td>800.000000</td>\n",
       "      <td>1.000000</td>\n",
       "    </tr>\n",
       "  </tbody>\n",
       "</table>\n",
       "</div>"
      ],
      "text/plain": [
       "              GPA         GRE       Admit\n",
       "count  644.000000  644.000000  644.000000\n",
       "mean     3.239936  612.923057    0.378882\n",
       "std      0.291907   76.637990    0.485486\n",
       "min      2.177100  390.363563    0.000000\n",
       "25%      3.045036  560.596793    0.000000\n",
       "50%      3.234650  612.104848    0.000000\n",
       "75%      3.448415  663.094697    1.000000\n",
       "max      4.000000  800.000000    1.000000"
      ]
     },
     "execution_count": 128,
     "metadata": {},
     "output_type": "execute_result"
    }
   ],
   "source": [
    "## Please write your code.\n",
    "admission.describe()"
   ]
  },
  {
   "cell_type": "markdown",
   "metadata": {
    "colab_type": "text",
    "id": "G01Hoq3g0BDp"
   },
   "source": [
    "### Visualize the Data: GRE score vs. PGA\n",
    "- The code below displays the data on a scatter plot (as shown below), where the axes are the two exam scores, and the positive and negative examples are shown with different markers."
   ]
  },
  {
   "cell_type": "code",
   "execution_count": 129,
   "metadata": {
    "colab": {
     "base_uri": "https://localhost:8080/",
     "height": 272
    },
    "colab_type": "code",
    "id": "IbPhXLY54FA_",
    "outputId": "9059315b-29c4-484a-de03-ba2613f63073"
   },
   "outputs": [],
   "source": [
    "y_0 = admission[admission.Admit == 0]\n",
    "\n",
    "y_1 = admission[admission.Admit == 1]"
   ]
  },
  {
   "cell_type": "markdown",
   "metadata": {},
   "source": [
    "### Question: How many students were admitted?"
   ]
  },
  {
   "cell_type": "code",
   "execution_count": 130,
   "metadata": {},
   "outputs": [
    {
     "name": "stdout",
     "output_type": "stream",
     "text": [
      "244 students were admitted.\n"
     ]
    }
   ],
   "source": [
    "## Please write your code.\n",
    "print(f'{len(y_1)} students were admitted.')"
   ]
  },
  {
   "cell_type": "markdown",
   "metadata": {},
   "source": [
    "### Run the cell below to display the scatter plot for the two features."
   ]
  },
  {
   "cell_type": "code",
   "execution_count": 131,
   "metadata": {},
   "outputs": [
    {
     "data": {
      "image/png": "[encoded data removed]",
      "text/plain": [
       "<Figure size 1200x700 with 1 Axes>"
      ]
     },
     "metadata": {},
     "output_type": "display_data"
    }
   ],
   "source": [
    "plt.figure(figsize=(12,7))\n",
    "\n",
    "plt.plot(y_1['GPA'], y_1['GRE'],'r*',label='Admit')\n",
    "plt.plot(y_0['GPA'], y_0['GRE'],'bo', label='Not admitted')\n",
    "plt.xlabel('GRE')\n",
    "plt.ylabel('GPA')\n",
    "\n",
    "plt.legend()\n",
    "plt.grid()\n",
    "plt.show()"
   ]
  },
  {
   "cell_type": "markdown",
   "metadata": {},
   "source": [
    "## <font color=green>3. Train-Test Data Split</font>"
   ]
  },
  {
   "cell_type": "markdown",
   "metadata": {},
   "source": [
    "#### Before building a logistic regression model, let's start by splitting the data into a training set and test set.\n"
   ]
  },
  {
   "cell_type": "markdown",
   "metadata": {},
   "source": [
    "### Load <font color=blue>Scikit Learn</font> ML packages"
   ]
  },
  {
   "cell_type": "code",
   "execution_count": 132,
   "metadata": {},
   "outputs": [],
   "source": [
    "### Load the proper package here.\n",
    "from sklearn.model_selection import train_test_split"
   ]
  },
  {
   "cell_type": "markdown",
   "metadata": {},
   "source": [
    "### We create the input features ($X$) and target value ($y$)."
   ]
  },
  {
   "cell_type": "code",
   "execution_count": 133,
   "metadata": {},
   "outputs": [],
   "source": [
    "## Write your code.\n",
    "X = admission.drop('Admit', axis=1)\n",
    "y = admission['Admit']"
   ]
  },
  {
   "cell_type": "markdown",
   "metadata": {},
   "source": [
    "## <font color=green>3.1 Feature Scaling: Z-Score Normalization</font>"
   ]
  },
  {
   "cell_type": "code",
   "execution_count": 134,
   "metadata": {},
   "outputs": [],
   "source": [
    "## Write your code.\n",
    " \n",
    "X, _ , _ = zscore_normalize(X)\n"
   ]
  },
  {
   "cell_type": "markdown",
   "metadata": {},
   "source": [
    "### Now we create Train and Test sets from $X$ and $y$ data."
   ]
  },
  {
   "cell_type": "code",
   "execution_count": 135,
   "metadata": {},
   "outputs": [],
   "source": [
    "## Write your code.\n",
    "\n",
    "X_train, X_test, y_train, y_test = train_test_split(X, y, test_size=0.30, random_state=1)"
   ]
  },
  {
   "cell_type": "markdown",
   "metadata": {},
   "source": [
    "#### Check out the shape of X_train & X_test"
   ]
  },
  {
   "cell_type": "code",
   "execution_count": 136,
   "metadata": {},
   "outputs": [
    {
     "name": "stdout",
     "output_type": "stream",
     "text": [
      "X_train: (450, 2) \n",
      "X_test: (194, 2)\n"
     ]
    }
   ],
   "source": [
    "## Write your code.\n",
    "print(f'X_train: {X_train.shape} \\nX_test: {X_test.shape}')"
   ]
  },
  {
   "cell_type": "markdown",
   "metadata": {},
   "source": [
    "## <font color=green>4. Training a Logistic Regression Model</font>\n",
    "\n",
    "### The training model is given by $f(\\hat{y}) = \\frac{1}{1 + e^{-(a_0 + a_1x_1 + a_2x_2)}}$, where $x_1$= `GPA`, $x_2$= `GRE`"
   ]
  },
  {
   "cell_type": "markdown",
   "metadata": {
    "colab_type": "text",
    "id": "6JSBuka3Eecm"
   },
   "source": [
    "### <font color=green>4.1 Train the Model Using NumPy GD Implementation</font> "
   ]
  },
  {
   "cell_type": "markdown",
   "metadata": {
    "colab": {
     "base_uri": "https://localhost:8080/",
     "height": 34
    },
    "colab_type": "code",
    "id": "DWKLkngeEoAG",
    "outputId": "c31f3256-59c7-4e6d-eff5-56f00891b3dd"
   },
   "source": [
    "### Feature Matrix for Training Data"
   ]
  },
  {
   "cell_type": "code",
   "execution_count": 137,
   "metadata": {},
   "outputs": [
    {
     "data": {
      "text/html": [
       "<div>\n",
       "<style scoped>\n",
       "    .dataframe tbody tr th:only-of-type {\n",
       "        vertical-align: middle;\n",
       "    }\n",
       "\n",
       "    .dataframe tbody tr th {\n",
       "        vertical-align: top;\n",
       "    }\n",
       "\n",
       "    .dataframe thead th {\n",
       "        text-align: right;\n",
       "    }\n",
       "</style>\n",
       "<table border=\"1\" class=\"dataframe\">\n",
       "  <thead>\n",
       "    <tr style=\"text-align: right;\">\n",
       "      <th></th>\n",
       "      <th>X_0</th>\n",
       "      <th>GPA</th>\n",
       "      <th>GRE</th>\n",
       "    </tr>\n",
       "  </thead>\n",
       "  <tbody>\n",
       "    <tr>\n",
       "      <th>214</th>\n",
       "      <td>1</td>\n",
       "      <td>0.026944</td>\n",
       "      <td>-1.232283</td>\n",
       "    </tr>\n",
       "    <tr>\n",
       "      <th>74</th>\n",
       "      <td>1</td>\n",
       "      <td>1.748064</td>\n",
       "      <td>-0.933636</td>\n",
       "    </tr>\n",
       "    <tr>\n",
       "      <th>375</th>\n",
       "      <td>1</td>\n",
       "      <td>0.285170</td>\n",
       "      <td>0.693573</td>\n",
       "    </tr>\n",
       "    <tr>\n",
       "      <th>364</th>\n",
       "      <td>1</td>\n",
       "      <td>0.373135</td>\n",
       "      <td>-0.090820</td>\n",
       "    </tr>\n",
       "    <tr>\n",
       "      <th>61</th>\n",
       "      <td>1</td>\n",
       "      <td>-0.651311</td>\n",
       "      <td>-0.142614</td>\n",
       "    </tr>\n",
       "    <tr>\n",
       "      <th>...</th>\n",
       "      <td>...</td>\n",
       "      <td>...</td>\n",
       "      <td>...</td>\n",
       "    </tr>\n",
       "    <tr>\n",
       "      <th>129</th>\n",
       "      <td>1</td>\n",
       "      <td>0.701043</td>\n",
       "      <td>-1.820596</td>\n",
       "    </tr>\n",
       "    <tr>\n",
       "      <th>144</th>\n",
       "      <td>1</td>\n",
       "      <td>-1.892582</td>\n",
       "      <td>-0.951800</td>\n",
       "    </tr>\n",
       "    <tr>\n",
       "      <th>72</th>\n",
       "      <td>1</td>\n",
       "      <td>-0.422954</td>\n",
       "      <td>0.488364</td>\n",
       "    </tr>\n",
       "    <tr>\n",
       "      <th>235</th>\n",
       "      <td>1</td>\n",
       "      <td>-1.015189</td>\n",
       "      <td>-1.009979</td>\n",
       "    </tr>\n",
       "    <tr>\n",
       "      <th>37</th>\n",
       "      <td>1</td>\n",
       "      <td>1.440270</td>\n",
       "      <td>-0.533032</td>\n",
       "    </tr>\n",
       "  </tbody>\n",
       "</table>\n",
       "<p>450 rows × 3 columns</p>\n",
       "</div>"
      ],
      "text/plain": [
       "     X_0       GPA       GRE\n",
       "214    1  0.026944 -1.232283\n",
       "74     1  1.748064 -0.933636\n",
       "375    1  0.285170  0.693573\n",
       "364    1  0.373135 -0.090820\n",
       "61     1 -0.651311 -0.142614\n",
       "..   ...       ...       ...\n",
       "129    1  0.701043 -1.820596\n",
       "144    1 -1.892582 -0.951800\n",
       "72     1 -0.422954  0.488364\n",
       "235    1 -1.015189 -1.009979\n",
       "37     1  1.440270 -0.533032\n",
       "\n",
       "[450 rows x 3 columns]"
      ]
     },
     "execution_count": 137,
     "metadata": {},
     "output_type": "execute_result"
    }
   ],
   "source": [
    "## Write your code\n",
    "\n",
    "X_train.insert(0, 'X_0', 1)\n",
    "X_train"
   ]
  },
  {
   "cell_type": "markdown",
   "metadata": {},
   "source": [
    "### Gradient Descent\n",
    "\n",
    "The following `regression routines` are cores for running gradient descent.\n",
    "- __`compute_cost_logistic`__\n",
    "- __`compute_gradient_logistic`__\n",
    "- __`gradient_descent`__"
   ]
  },
  {
   "cell_type": "markdown",
   "metadata": {},
   "source": [
    "### Initializing (hyper)parameters"
   ]
  },
  {
   "cell_type": "code",
   "execution_count": 138,
   "metadata": {},
   "outputs": [
    {
     "data": {
      "text/plain": [
       "(3,)"
      ]
     },
     "execution_count": 138,
     "metadata": {},
     "output_type": "execute_result"
    }
   ],
   "source": [
    "## Write your code \n",
    "A_in = np.array([1, 1 ,1])\n",
    "A_in.shape"
   ]
  },
  {
   "cell_type": "markdown",
   "metadata": {},
   "source": [
    "### Run the GD algorithm"
   ]
  },
  {
   "cell_type": "code",
   "execution_count": 139,
   "metadata": {},
   "outputs": [
    {
     "name": "stdout",
     "output_type": "stream",
     "text": [
      "        0 7.56062e-01\n"
     ]
    },
    {
     "name": "stdout",
     "output_type": "stream",
     "text": [
      "     2000 7.37485e-01\n",
      "     4000 7.20131e-01\n",
      "     6000 7.03926e-01\n",
      "     8000 6.88799e-01\n",
      "    10000 6.74684e-01\n",
      "    12000 6.61516e-01\n",
      "    14000 6.49236e-01\n",
      "    16000 6.37788e-01\n",
      "    18000 6.27118e-01\n"
     ]
    }
   ],
   "source": [
    "## Write your code\n",
    "A, J_history = gradient_descent(X_train, y_train, A_in, compute_cost_logistic, compute_gradient_logistic, 0.0001, 20000)"
   ]
  },
  {
   "cell_type": "markdown",
   "metadata": {},
   "source": [
    "### What are the optimal values of the weight vector, $a_0, a_1, a_2$?"
   ]
  },
  {
   "cell_type": "code",
   "execution_count": 140,
   "metadata": {},
   "outputs": [
    {
     "name": "stdout",
     "output_type": "stream",
     "text": [
      "a0 = 0.4850, a1 = 0.9517, a2 = 1.0860\n"
     ]
    }
   ],
   "source": [
    "## Write your code\n",
    "print(f'a0 = {A[0]:.04f}, a1 = {A[1]:.04f}, a2 = {A[2]:.04f}')"
   ]
  },
  {
   "cell_type": "markdown",
   "metadata": {},
   "source": [
    "### Make prediction for new data point\n",
    "\n",
    "<font color=green>__A student has a 3.5 GPA and scores 700 in GPE, what is the probability of him getting admitted?__</font>"
   ]
  },
  {
   "cell_type": "code",
   "execution_count": 141,
   "metadata": {},
   "outputs": [
    {
     "name": "stdout",
     "output_type": "stream",
     "text": [
      "There are 100.0000% chances of the student being admitted.\n"
     ]
    }
   ],
   "source": [
    "## Write your code\n",
    "sample = np.array([1, 3.5, 700])\n",
    "z = predict_logistic(sample, A)\n",
    "print(f'There are {(z * 100):.4f}% chances of the student being admitted.')"
   ]
  },
  {
   "cell_type": "markdown",
   "metadata": {},
   "source": [
    "### <font color=green>4.2 Prediction of the Test Data by the Model</font>"
   ]
  },
  {
   "cell_type": "markdown",
   "metadata": {},
   "source": [
    "### Feature Matrix for Training Data"
   ]
  },
  {
   "cell_type": "code",
   "execution_count": 142,
   "metadata": {},
   "outputs": [],
   "source": [
    "X_test.insert(0, 'X_0', 1)"
   ]
  },
  {
   "cell_type": "code",
   "execution_count": 143,
   "metadata": {},
   "outputs": [
    {
     "data": {
      "text/html": [
       "<div>\n",
       "<style scoped>\n",
       "    .dataframe tbody tr th:only-of-type {\n",
       "        vertical-align: middle;\n",
       "    }\n",
       "\n",
       "    .dataframe tbody tr th {\n",
       "        vertical-align: top;\n",
       "    }\n",
       "\n",
       "    .dataframe thead th {\n",
       "        text-align: right;\n",
       "    }\n",
       "</style>\n",
       "<table border=\"1\" class=\"dataframe\">\n",
       "  <thead>\n",
       "    <tr style=\"text-align: right;\">\n",
       "      <th></th>\n",
       "      <th>X_0</th>\n",
       "      <th>GPA</th>\n",
       "      <th>GRE</th>\n",
       "    </tr>\n",
       "  </thead>\n",
       "  <tbody>\n",
       "    <tr>\n",
       "      <th>214</th>\n",
       "      <td>1</td>\n",
       "      <td>0.026944</td>\n",
       "      <td>-1.232283</td>\n",
       "    </tr>\n",
       "    <tr>\n",
       "      <th>74</th>\n",
       "      <td>1</td>\n",
       "      <td>1.748064</td>\n",
       "      <td>-0.933636</td>\n",
       "    </tr>\n",
       "    <tr>\n",
       "      <th>375</th>\n",
       "      <td>1</td>\n",
       "      <td>0.285170</td>\n",
       "      <td>0.693573</td>\n",
       "    </tr>\n",
       "    <tr>\n",
       "      <th>364</th>\n",
       "      <td>1</td>\n",
       "      <td>0.373135</td>\n",
       "      <td>-0.090820</td>\n",
       "    </tr>\n",
       "    <tr>\n",
       "      <th>61</th>\n",
       "      <td>1</td>\n",
       "      <td>-0.651311</td>\n",
       "      <td>-0.142614</td>\n",
       "    </tr>\n",
       "    <tr>\n",
       "      <th>...</th>\n",
       "      <td>...</td>\n",
       "      <td>...</td>\n",
       "      <td>...</td>\n",
       "    </tr>\n",
       "    <tr>\n",
       "      <th>129</th>\n",
       "      <td>1</td>\n",
       "      <td>0.701043</td>\n",
       "      <td>-1.820596</td>\n",
       "    </tr>\n",
       "    <tr>\n",
       "      <th>144</th>\n",
       "      <td>1</td>\n",
       "      <td>-1.892582</td>\n",
       "      <td>-0.951800</td>\n",
       "    </tr>\n",
       "    <tr>\n",
       "      <th>72</th>\n",
       "      <td>1</td>\n",
       "      <td>-0.422954</td>\n",
       "      <td>0.488364</td>\n",
       "    </tr>\n",
       "    <tr>\n",
       "      <th>235</th>\n",
       "      <td>1</td>\n",
       "      <td>-1.015189</td>\n",
       "      <td>-1.009979</td>\n",
       "    </tr>\n",
       "    <tr>\n",
       "      <th>37</th>\n",
       "      <td>1</td>\n",
       "      <td>1.440270</td>\n",
       "      <td>-0.533032</td>\n",
       "    </tr>\n",
       "  </tbody>\n",
       "</table>\n",
       "<p>450 rows × 3 columns</p>\n",
       "</div>"
      ],
      "text/plain": [
       "     X_0       GPA       GRE\n",
       "214    1  0.026944 -1.232283\n",
       "74     1  1.748064 -0.933636\n",
       "375    1  0.285170  0.693573\n",
       "364    1  0.373135 -0.090820\n",
       "61     1 -0.651311 -0.142614\n",
       "..   ...       ...       ...\n",
       "129    1  0.701043 -1.820596\n",
       "144    1 -1.892582 -0.951800\n",
       "72     1 -0.422954  0.488364\n",
       "235    1 -1.015189 -1.009979\n",
       "37     1  1.440270 -0.533032\n",
       "\n",
       "[450 rows x 3 columns]"
      ]
     },
     "execution_count": 143,
     "metadata": {},
     "output_type": "execute_result"
    }
   ],
   "source": [
    "## Write your code\n",
    "X_train"
   ]
  },
  {
   "cell_type": "markdown",
   "metadata": {},
   "source": [
    "### Calculate the predicted class probability "
   ]
  },
  {
   "cell_type": "code",
   "execution_count": 144,
   "metadata": {},
   "outputs": [
    {
     "data": {
      "text/plain": [
       "array([0.43283784, 0.66694473, 0.3009878 , 0.20172296, 0.91657103,\n",
       "       0.78455846, 0.77335733, 0.90361963, 0.7978    , 0.64654851,\n",
       "       0.30126688, 0.89553641, 0.8577563 , 0.68294507, 0.05542635,\n",
       "       0.38800929, 0.48655951, 0.57355046, 0.74185878, 0.360823  ,\n",
       "       0.31748353, 0.75930239, 0.88246352, 0.13365576, 0.33707004,\n",
       "       0.44156221, 0.77710866, 0.12484443, 0.90689532, 0.69951157,\n",
       "       0.86524848, 0.20473012, 0.89516113, 0.68731827, 0.97258312,\n",
       "       0.91455135, 0.84972029, 0.52680743, 0.85653958, 0.49520091,\n",
       "       0.75015441, 0.90438599, 0.41470077, 0.02438853, 0.28035598,\n",
       "       0.0575434 , 0.83211767, 0.77615154, 0.31039508, 0.41641942,\n",
       "       0.74918345, 0.45527386, 0.66260734, 0.77738869, 0.74934933,\n",
       "       0.13970503, 0.6451237 , 0.77607864, 0.634849  , 0.5267119 ,\n",
       "       0.81709721, 0.10768841, 0.87660748, 0.41206112, 0.89626111,\n",
       "       0.18725913, 0.77696654, 0.91990465, 0.33164001, 0.89410954,\n",
       "       0.87795875, 0.64075891, 0.96708901, 0.90140887, 0.50341771,\n",
       "       0.33999366, 0.82024873, 0.91268331, 0.83853267, 0.76045004,\n",
       "       0.8436088 , 0.67684461, 0.90522277, 0.52403953, 0.19344308,\n",
       "       0.7964794 , 0.64298577, 0.54005546, 0.20082725, 0.34994212,\n",
       "       0.17123726, 0.41974083, 0.95693078, 0.32028033, 0.98992903,\n",
       "       0.86369133, 0.37779011, 0.82416164, 0.61593619, 0.93289896,\n",
       "       0.8985509 , 0.93375759, 0.32909529, 0.50418484, 0.4018724 ,\n",
       "       0.59861607, 0.67632463, 0.76695725, 0.26417538, 0.87566773,\n",
       "       0.05982038, 0.92238456, 0.71399838, 0.32409453, 0.90672674,\n",
       "       0.15681373, 0.52505489, 0.63662289, 0.50680316, 0.86197255,\n",
       "       0.83756274, 0.25787253, 0.50961956, 0.79416426, 0.53202575,\n",
       "       0.08552341, 0.40331251, 0.13426304, 0.18816516, 0.84962635,\n",
       "       0.18207514, 0.73962276, 0.9503567 , 0.83223419, 0.57159809,\n",
       "       0.19897196, 0.88711833, 0.85784108, 0.67476122, 0.57328519,\n",
       "       0.87900024, 0.86164557, 0.10796386, 0.27261888, 0.71621127,\n",
       "       0.42113856, 0.38801757, 0.70982199, 0.33878934, 0.65070003,\n",
       "       0.29536002, 0.23116444, 0.6349408 , 0.23014937, 0.24635696,\n",
       "       0.30347908, 0.67116093, 0.0842217 , 0.64954167, 0.17531177,\n",
       "       0.91441942, 0.63825328, 0.24710016, 0.89263785, 0.31947105,\n",
       "       0.83029048, 0.87578815, 0.54849457, 0.96039521, 0.51319897,\n",
       "       0.33538697, 0.39598906, 0.34848882, 0.0772641 , 0.62943305,\n",
       "       0.44826267, 0.67154956, 0.81296795, 0.92456622, 0.37317731,\n",
       "       0.61662312, 0.94420884, 0.87448714, 0.5909473 , 0.68147491,\n",
       "       0.4191383 , 0.65825902, 0.91118457, 0.16955248, 0.37413034,\n",
       "       0.51024326, 0.36861582, 0.76960218, 0.65635528])"
      ]
     },
     "execution_count": 144,
     "metadata": {},
     "output_type": "execute_result"
    }
   ],
   "source": [
    "## Write your code\n",
    "X_test_prediction = predict_logistic(X_test, A)\n",
    "X_test_prediction"
   ]
  },
  {
   "cell_type": "markdown",
   "metadata": {},
   "source": [
    "### Classify the predicted value to `class 0` or `class 1`"
   ]
  },
  {
   "cell_type": "code",
   "execution_count": 145,
   "metadata": {},
   "outputs": [
    {
     "data": {
      "text/plain": [
       "array([0, 1, 0, 0, 1, 1, 1, 1, 1, 1, 0, 1, 1, 1, 0, 0, 0, 1, 1, 0, 0, 1,\n",
       "       1, 0, 0, 0, 1, 0, 1, 1, 1, 0, 1, 1, 1, 1, 1, 1, 1, 0, 1, 1, 0, 0,\n",
       "       0, 0, 1, 1, 0, 0, 1, 0, 1, 1, 1, 0, 1, 1, 1, 1, 1, 0, 1, 0, 1, 0,\n",
       "       1, 1, 0, 1, 1, 1, 1, 1, 1, 0, 1, 1, 1, 1, 1, 1, 1, 1, 0, 1, 1, 1,\n",
       "       0, 0, 0, 0, 1, 0, 1, 1, 0, 1, 1, 1, 1, 1, 0, 1, 0, 1, 1, 1, 0, 1,\n",
       "       0, 1, 1, 0, 1, 0, 1, 1, 1, 1, 1, 0, 1, 1, 1, 0, 0, 0, 0, 1, 0, 1,\n",
       "       1, 1, 1, 0, 1, 1, 1, 1, 1, 1, 0, 0, 1, 0, 0, 1, 0, 1, 0, 0, 1, 0,\n",
       "       0, 0, 1, 0, 1, 0, 1, 1, 0, 1, 0, 1, 1, 1, 1, 1, 0, 0, 0, 0, 1, 0,\n",
       "       1, 1, 1, 0, 1, 1, 1, 1, 1, 0, 1, 1, 0, 0, 1, 0, 1, 1])"
      ]
     },
     "execution_count": 145,
     "metadata": {},
     "output_type": "execute_result"
    }
   ],
   "source": [
    "## Write your code\n",
    "X_test_prediction = np.round(X_test_prediction)\n",
    "X_test_prediction = X_test_prediction.astype(int)\n",
    "X_test_prediction"
   ]
  },
  {
   "cell_type": "markdown",
   "metadata": {},
   "source": [
    "## <font color=green>6. Regression Model Evaluation Metrics</font>\n",
    "\n",
    "We will use the **Confusion Matrix** and **Classification Report** to examine the logistic model performance. \n",
    "\n",
    "TP = True Positive, TN = True Negative, FP = False Positive, FN = False Negative\n",
    "\n",
    " ### * Precision = $\\frac{TP}{(TP + FP)}$ \n",
    " ### * Negative Precision = $\\frac{TN}{(TN + FN)}$\n",
    " \n",
    " ### * Recall (Sensitivity) = $\\frac{TP}{(TP + FN)}$ \n",
    " \n",
    " ### * Specificity = $\\frac{TN}{(TN + FP)}$\n",
    "\n",
    " ### * f1-score = $\\frac{2*\\text{Precision * Recall}}{\\text{Precision + Recall}}$ for both Negative and Positive Classes! \n",
    "\n",
    "`Support` = Total Number of Actual Negative and Poisitive Classes."
   ]
  },
  {
   "cell_type": "markdown",
   "metadata": {},
   "source": [
    "### Import <font color=blue>Scikit Learn</font> ML packages for confusion matrix and classification report"
   ]
  },
  {
   "cell_type": "code",
   "execution_count": 153,
   "metadata": {},
   "outputs": [],
   "source": [
    "# Write your code\n",
    "from sklearn.metrics import confusion_matrix\n",
    "from sklearn.metrics import classification_report"
   ]
  },
  {
   "cell_type": "markdown",
   "metadata": {},
   "source": [
    "### Print the Confusion Matrix in the format: TP=10, FN=1, FP=3, TN=30 "
   ]
  },
  {
   "cell_type": "code",
   "execution_count": 152,
   "metadata": {},
   "outputs": [
    {
     "name": "stdout",
     "output_type": "stream",
     "text": [
      "TP=72, FN=4, FP=50, TN=68\n"
     ]
    }
   ],
   "source": [
    "# Write your code\n",
    "c = confusion_matrix(y_test, X_test_prediction, labels=[1,0])\n",
    "print (f'TP={c[0,0]}, FN={c[0,1]}, FP={c[1,0]}, TN={c[1,1]}')"
   ]
  },
  {
   "cell_type": "markdown",
   "metadata": {},
   "source": [
    "### Print the Classification report"
   ]
  },
  {
   "cell_type": "code",
   "execution_count": 155,
   "metadata": {},
   "outputs": [
    {
     "name": "stdout",
     "output_type": "stream",
     "text": [
      "              precision    recall  f1-score   support\n",
      "\n",
      "           0       0.94      0.58      0.72       118\n",
      "           1       0.59      0.95      0.73        76\n",
      "\n",
      "    accuracy                           0.72       194\n",
      "   macro avg       0.77      0.76      0.72       194\n",
      "weighted avg       0.81      0.72      0.72       194\n",
      "\n"
     ]
    }
   ],
   "source": [
    "# Write your code\n",
    "print(classification_report(y_test, X_test_prediction))"
   ]
  },
  {
   "cell_type": "markdown",
   "metadata": {},
   "source": [
    "###  Question: What about the performance for the <font color=blue>training data?  </font>\n",
    "\n",
    "Please repeat the same performance evaluation procedure for the training data"
   ]
  },
  {
   "cell_type": "code",
   "execution_count": 156,
   "metadata": {},
   "outputs": [
    {
     "data": {
      "text/plain": [
       "array([0, 1, 1, 1, 0, 0, 0, 1, 1, 0, 1, 0, 1, 0, 1, 1, 0, 1, 1, 1, 1, 0,\n",
       "       1, 1, 0, 1, 0, 1, 0, 0, 1, 0, 1, 0, 0, 1, 0, 1, 1, 0, 0, 1, 1, 0,\n",
       "       0, 0, 1, 1, 1, 1, 1, 1, 1, 0, 1, 1, 1, 1, 0, 1, 0, 1, 1, 1, 1, 0,\n",
       "       0, 1, 1, 1, 1, 1, 0, 1, 0, 1, 1, 1, 1, 1, 1, 1, 1, 0, 0, 0, 1, 0,\n",
       "       1, 0, 0, 0, 0, 0, 1, 0, 0, 1, 0, 1, 1, 0, 1, 1, 0, 0, 0, 1, 0, 1,\n",
       "       1, 0, 1, 1, 0, 1, 1, 1, 1, 1, 1, 1, 1, 0, 1, 1, 0, 1, 1, 1, 1, 0,\n",
       "       0, 0, 0, 0, 1, 1, 1, 1, 0, 1, 0, 1, 1, 1, 0, 0, 1, 1, 0, 1, 1, 1,\n",
       "       1, 0, 0, 1, 1, 1, 1, 0, 1, 1, 1, 1, 1, 0, 0, 1, 1, 0, 1, 1, 0, 1,\n",
       "       0, 0, 0, 1, 1, 1, 1, 0, 1, 1, 1, 1, 0, 1, 1, 1, 1, 0, 0, 1, 1, 1,\n",
       "       1, 0, 0, 0, 1, 1, 1, 0, 1, 1, 1, 0, 1, 0, 0, 1, 1, 0, 1, 1, 0, 1,\n",
       "       1, 1, 1, 1, 1, 1, 0, 1, 1, 1, 1, 1, 0, 0, 1, 1, 0, 1, 1, 1, 0, 1,\n",
       "       0, 0, 1, 1, 1, 0, 0, 1, 1, 1, 0, 1, 1, 1, 0, 0, 1, 1, 0, 0, 0, 0,\n",
       "       1, 1, 1, 0, 0, 1, 0, 0, 0, 1, 1, 0, 0, 1, 1, 0, 1, 1, 1, 1, 1, 1,\n",
       "       1, 0, 1, 1, 1, 0, 1, 1, 0, 1, 1, 0, 1, 0, 0, 1, 1, 1, 1, 1, 1, 0,\n",
       "       1, 1, 1, 0, 0, 1, 1, 1, 0, 1, 1, 1, 1, 1, 1, 0, 1, 1, 0, 1, 0, 1,\n",
       "       1, 1, 1, 1, 1, 0, 1, 1, 0, 0, 0, 1, 0, 0, 1, 0, 0, 1, 1, 0, 1, 1,\n",
       "       1, 1, 1, 1, 0, 1, 1, 1, 1, 1, 1, 1, 0, 1, 1, 1, 0, 0, 1, 1, 1, 1,\n",
       "       1, 1, 1, 1, 1, 0, 0, 1, 0, 1, 1, 0, 1, 1, 1, 1, 1, 0, 0, 0, 0, 1,\n",
       "       1, 1, 0, 1, 0, 1, 0, 0, 1, 1, 1, 1, 1, 1, 1, 1, 0, 1, 1, 0, 1, 0,\n",
       "       0, 1, 1, 0, 1, 1, 1, 0, 0, 0, 1, 0, 1, 1, 0, 1, 0, 1, 1, 0, 1, 1,\n",
       "       0, 1, 1, 1, 1, 0, 0, 1, 0, 1])"
      ]
     },
     "execution_count": 156,
     "metadata": {},
     "output_type": "execute_result"
    }
   ],
   "source": [
    "# Write your code\n",
    "X_train_prediction = predict_logistic(X_train, A)\n",
    "X_train_prediction = np.round(X_train_prediction)\n",
    "X_train_prediction = X_train_prediction.astype(int)\n",
    "X_train_prediction"
   ]
  },
  {
   "cell_type": "code",
   "execution_count": 157,
   "metadata": {},
   "outputs": [
    {
     "name": "stdout",
     "output_type": "stream",
     "text": [
      "TP=147, FN=21, FP=142, TN=140\n"
     ]
    }
   ],
   "source": [
    "c = confusion_matrix(y_train, X_train_prediction, labels=[1,0])\n",
    "print (f'TP={c[0,0]}, FN={c[0,1]}, FP={c[1,0]}, TN={c[1,1]}')"
   ]
  },
  {
   "cell_type": "code",
   "execution_count": 158,
   "metadata": {},
   "outputs": [
    {
     "name": "stdout",
     "output_type": "stream",
     "text": [
      "              precision    recall  f1-score   support\n",
      "\n",
      "           0       0.87      0.50      0.63       282\n",
      "           1       0.51      0.88      0.64       168\n",
      "\n",
      "    accuracy                           0.64       450\n",
      "   macro avg       0.69      0.69      0.64       450\n",
      "weighted avg       0.73      0.64      0.64       450\n",
      "\n"
     ]
    }
   ],
   "source": [
    "print(classification_report(y_train, X_train_prediction))"
   ]
  }
 ],
 "metadata": {
  "accelerator": "GPU",
  "colab": {
   "collapsed_sections": [],
   "name": "Linear Regression on Boston Housing Data.ipynb",
   "provenance": [],
   "version": "0.3.2"
  },
  "kernelspec": {
   "display_name": "Python 3",
   "language": "python",
   "name": "python3"
  },
  "language_info": {
   "codemirror_mode": {
    "name": "ipython",
    "version": 3
   },
   "file_extension": ".py",
   "mimetype": "text/x-python",
   "name": "python",
   "nbconvert_exporter": "python",
   "pygments_lexer": "ipython3",
   "version": "3.11.4"
  }
 },
 "nbformat": 4,
 "nbformat_minor": 1
}
