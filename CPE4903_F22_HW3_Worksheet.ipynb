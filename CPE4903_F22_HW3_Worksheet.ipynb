{
 "cells": [
  {
   "cell_type": "markdown",
   "id": "4f48bbbb",
   "metadata": {},
   "source": [
    "<center><h1>CPE 4903 Fall 2023: Homework 3 Worksheet</h1></center>"
   ]
  },
  {
   "cell_type": "markdown",
   "id": "b23980b5",
   "metadata": {},
   "source": [
    "### You will use this worksheet to perform NumPy implementation for some of the problems in this assignment."
   ]
  },
  {
   "cell_type": "markdown",
   "id": "938d91d1",
   "metadata": {},
   "source": [
    "### Submission:\n",
    " * Submit this notebook file and the pdf version.\n",
    " * Deadline: 11:59 pm, 9/10"
   ]
  },
  {
   "cell_type": "code",
   "execution_count": 27,
   "id": "20dcfb0a",
   "metadata": {},
   "outputs": [],
   "source": [
    "import numpy as np\n",
    "import numpy.linalg as la"
   ]
  },
  {
   "cell_type": "markdown",
   "id": "a95a18ff",
   "metadata": {},
   "source": [
    "### Problem 1.3: Solving Linear Equations\n",
    "Use the NumPy linear algebra module to find the values of $x$, $y$, and $z$.\n",
    "\n",
    "__Note: do not use np.linalg.solve( )__"
   ]
  },
  {
   "cell_type": "code",
   "execution_count": 28,
   "id": "9c978c68",
   "metadata": {},
   "outputs": [
    {
     "name": "stdout",
     "output_type": "stream",
     "text": [
      "after solving the system of equations, the values are\n",
      "x = 2.60,\n",
      "y = 1.00, \n",
      "z = 1.20\n"
     ]
    }
   ],
   "source": [
    "# Write your code here.\n",
    "\n",
    "# declare the two matrices\n",
    "A = [[2, 3, -1],\n",
    "     [1, -2, 2],\n",
    "     [3, 1, -4]]\n",
    "\n",
    "b = [[7],\n",
    "     [3],\n",
    "     [4]]\n",
    "\n",
    "\n",
    "# to find X, we need A^-1 times b\n",
    "\n",
    "# find A^-1\n",
    "A_inv = la.inv(A)\n",
    "\n",
    "# now find X using matrix multiplication\n",
    "X = np.dot(A_inv, b)\n",
    "\n",
    "x, y, z = X[0][0], X[1][0], X[2][0]\n",
    "\n",
    "print(f'after solving the system of equations, the values are\\nx = {x:.02f},\\ny = {y:.02f}, \\nz = {z:.02f}')\n"
   ]
  },
  {
   "cell_type": "markdown",
   "id": "1c6e54cd",
   "metadata": {},
   "source": [
    "### Problem 2.1: \n",
    "\n",
    "Create the `Feature Matrix`, X, for the dataset. Be sure to populate the matrix with the numerical values.  "
   ]
  },
  {
   "cell_type": "code",
   "execution_count": 29,
   "id": "5a1833c4",
   "metadata": {},
   "outputs": [
    {
     "name": "stdout",
     "output_type": "stream",
     "text": [
      "the shape of the feature matrix, X, is (3, 5)\n"
     ]
    }
   ],
   "source": [
    "# Write your code here.\n",
    "\n",
    "X = np.array([\n",
    "    [1, 5, 21, 45, 1], \n",
    "    [1, 3, 14, 40, 2], \n",
    "    [1, 2, 8.5, 30, 1]\n",
    "])\n",
    "\n",
    "print(f'the shape of the feature matrix, X, is {X.shape}')"
   ]
  },
  {
   "cell_type": "markdown",
   "id": "f17d36cb",
   "metadata": {},
   "source": [
    "### Problem 2.2:\n",
    "\n",
    "Calculate the predicted target value, $\\hat{y}^{(1)}$, for the first training sample (that is, the first row in the dataset)."
   ]
  },
  {
   "cell_type": "code",
   "execution_count": 30,
   "id": "91640802",
   "metadata": {},
   "outputs": [
    {
     "name": "stdout",
     "output_type": "stream",
     "text": [
      "the predicted target value of y^(1) is 535.0\n"
     ]
    }
   ],
   "source": [
    "# Write your code here.\n",
    "\n",
    "x_1 = X[0]\n",
    "A = np.array([[780, 18, 40, -25, -50]])\n",
    "y = np.dot(x_1, A.transpose())\n",
    "\n",
    "print(f'the predicted target value of y^(1) is {y[0]}')"
   ]
  },
  {
   "cell_type": "markdown",
   "id": "cd8afefa",
   "metadata": {},
   "source": [
    "### Problem 2.3:\n",
    "\n",
    "Use the matrix equation and calculate the cost function $J(A)$."
   ]
  },
  {
   "cell_type": "code",
   "execution_count": 31,
   "id": "c3db6bf0",
   "metadata": {},
   "outputs": [
    {
     "name": "stdout",
     "output_type": "stream",
     "text": [
      "J(A) = 6858.833\n"
     ]
    }
   ],
   "source": [
    "# WRITE YOUR CODE HERE.\n",
    "\n",
    "# Computing the cost, J(A)\n",
    "\n",
    "m, _ = X.shape # number of samples\n",
    "\n",
    "# Declare the matrix, Y\n",
    "Y = np.array([\n",
    "    [460],\n",
    "    [232],\n",
    "    [178]\n",
    "])\n",
    "\n",
    "# Matrices A and X are already declared above.\n",
    "\n",
    "residualVector = np.dot(X, A.transpose()) - Y\n",
    "\n",
    "costTemp = np.dot(residualVector.transpose(), residualVector)\n",
    "\n",
    "cost = costTemp / (2 * m)\n",
    "\n",
    "print(f'J(A) = {cost[0][0]:.03f}')"
   ]
  },
  {
   "cell_type": "markdown",
   "id": "77d3b36e",
   "metadata": {},
   "source": [
    "### Problem 2.4:\n",
    "\n",
    "Use the matrix equation to calculate the optimum weight vector $A_{opt}$"
   ]
  },
  {
   "cell_type": "code",
   "execution_count": 32,
   "id": "130dde4f",
   "metadata": {},
   "outputs": [
    {
     "name": "stdout",
     "output_type": "stream",
     "text": [
      "the resultant optimum weight vector is: \n",
      "A_opt = \n",
      "[[-8192.]\n",
      " [ 5120.]\n",
      " [ -768.]\n",
      " [    0.]\n",
      " [ 1024.]]\n"
     ]
    }
   ],
   "source": [
    "# WRITE YOUR CODE HERE.\n",
    "\n",
    "innerProduct = np.dot(X.transpose(), X)\n",
    "secondTerm = np.dot(X.transpose(), Y)\n",
    "\n",
    "A_opt = np.dot(la.inv(innerProduct), secondTerm)\n",
    "\n",
    "print(f'the resultant optimum weight vector is: \\nA_opt = \\n{A_opt}')"
   ]
  },
  {
   "cell_type": "markdown",
   "id": "2311886f",
   "metadata": {},
   "source": [
    "### Problem 2.5:\n",
    "\n",
    "Calculate the gradient vector of the cost function, $\\frac{\\partial J(A)}{\\partial A}$."
   ]
  },
  {
   "cell_type": "code",
   "execution_count": 33,
   "id": "ad1073cc",
   "metadata": {},
   "outputs": [
    {
     "name": "stdout",
     "output_type": "stream",
     "text": [
      "The gradient vector of the cost function is:\n",
      "[[ 105.        ]\n",
      " [ 305.66666667]\n",
      " [1318.66666667]\n",
      " [3731.66666667]\n",
      " [ 125.66666667]]\n"
     ]
    }
   ],
   "source": [
    "# WRITE YOUR CODE HERE.\n",
    "\n",
    "rows, _ = X.shape\n",
    "\n",
    "# (3 x 5) * (5 x 1) = (3 x 1) - (3 x 1) = (3 x 1)\n",
    "# (5 x 3) * (3 x 1) = (5 x 1) \n",
    "\n",
    "# Calculating the residual vector\n",
    "resVector = (np.dot(X, A.transpose()) - Y)\n",
    "\n",
    "# Scalar multiplication and summation using the dot product approach \n",
    "gradientVector = np.dot(X.transpose(), resVector)\n",
    "\n",
    "# Finally taking the average with the help of the number of samples\n",
    "gradientVector /= rows\n",
    "\n",
    "print(f'The gradient vector of the cost function is:\\n{gradientVector}')"
   ]
  }
 ],
 "metadata": {
  "dl_toc_settings": {
   "rndtag": "40291"
  },
  "kernelspec": {
   "display_name": "Python 3",
   "language": "python",
   "name": "python3"
  },
  "language_info": {
   "codemirror_mode": {
    "name": "ipython",
    "version": 3
   },
   "file_extension": ".py",
   "mimetype": "text/x-python",
   "name": "python",
   "nbconvert_exporter": "python",
   "pygments_lexer": "ipython3",
   "version": "3.11.4"
  },
  "toc-autonumbering": false
 },
 "nbformat": 4,
 "nbformat_minor": 5
}
