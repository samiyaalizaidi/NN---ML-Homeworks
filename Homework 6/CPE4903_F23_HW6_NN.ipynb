{
 "cells": [
  {
   "cell_type": "markdown",
   "id": "f57dbcd9",
   "metadata": {},
   "source": [
    "# <center>Homework 6 - Learning XOR Function Using a Two-Layer Neural Network</center>"
   ]
  },
  {
   "cell_type": "markdown",
   "id": "bd3bb372",
   "metadata": {},
   "source": [
    "### Submission:\n",
    " * Submit this notebook file and the pdf version.\n",
    " * Deadline: 11:59 pm, 10/22"
   ]
  },
  {
   "cell_type": "markdown",
   "id": "ce3ff479",
   "metadata": {},
   "source": [
    "### Assignment:\n",
    "\n",
    "In this assignment, you will work with a `2-layer neural network` to train a model capable of learning the XOR function. The neural network comes with initial weights, and you will perform the following tasks:\n",
    " * Calculate the parameters for both forward and back propagation to validate your manual calculations.\n",
    " * Implement gradient descent using NumPy to find the optimal weights and biases for each layer."
   ]
  },
  {
   "cell_type": "markdown",
   "id": "8b62d51a",
   "metadata": {},
   "source": [
    "### Two-Layer Neural Network\n",
    "<img src=\"2-layer NN.png\" alt=\"Drawing\" style=\"width: 500px;\"/>"
   ]
  },
  {
   "cell_type": "markdown",
   "id": "3ab8d7ae",
   "metadata": {},
   "source": [
    "### Truth Table and Scatter Plot of XOR Function \n",
    "\n",
    "\n",
    "<table><tr>\n",
    "<td> <img src=\"XOR_truthtable.png\" alt=\"Drawing\" style=\"width: 300px;\"/> </td>\n",
    "<td> <img src=\"XOR.png\" alt=\"Drawing\" style=\"width: 400px;\"/> </td>\n",
    "</tr></table>"
   ]
  },
  {
   "cell_type": "markdown",
   "id": "7a100dc0",
   "metadata": {},
   "source": [
    "### Import Tools"
   ]
  },
  {
   "cell_type": "code",
   "execution_count": 167,
   "id": "a886d0b5",
   "metadata": {},
   "outputs": [],
   "source": [
    "import numpy as np\n",
    "import matplotlib.pyplot as plt\n",
    "import math\n",
    "\n",
    "%matplotlib inline"
   ]
  },
  {
   "cell_type": "markdown",
   "id": "90a0dee2",
   "metadata": {},
   "source": [
    "### Activation Function Library"
   ]
  },
  {
   "cell_type": "code",
   "execution_count": 168,
   "id": "f632e3c7",
   "metadata": {},
   "outputs": [],
   "source": [
    "def sigmoid(z):\n",
    "    a = 1 / (1 + np.exp(-z))\n",
    "    return a"
   ]
  },
  {
   "cell_type": "code",
   "execution_count": 169,
   "id": "79bc0aad",
   "metadata": {},
   "outputs": [],
   "source": [
    "def dsigmoid(z):\n",
    "    '''\n",
    "    derivative of sigmoid function\n",
    "    '''\n",
    "    a = sigmoid(z)\n",
    "    return a * (1 - a)"
   ]
  },
  {
   "cell_type": "code",
   "execution_count": 170,
   "id": "0e3925b9",
   "metadata": {},
   "outputs": [],
   "source": [
    "def relu(z):\n",
    "    return np.maximum(z, 0)"
   ]
  },
  {
   "cell_type": "code",
   "execution_count": 171,
   "id": "3028ee02",
   "metadata": {},
   "outputs": [],
   "source": [
    "def drelu(z):\n",
    "    '''\n",
    "    derivative of ReLU function\n",
    "    '''\n",
    "    return np.where(z < 0, 0, 1)"
   ]
  },
  {
   "cell_type": "code",
   "execution_count": 172,
   "id": "db1db229",
   "metadata": {},
   "outputs": [],
   "source": [
    "def dtanh(z):\n",
    "    '''\n",
    "    derivative of tanh function\n",
    "    '''\n",
    "    a = np.tanh(z)\n",
    "    return 1 - a**2"
   ]
  },
  {
   "cell_type": "markdown",
   "id": "85458806",
   "metadata": {},
   "source": [
    "### Neural Network Parameters"
   ]
  },
  {
   "cell_type": "code",
   "execution_count": 173,
   "id": "d19ed3ca",
   "metadata": {},
   "outputs": [],
   "source": [
    "n = 2   # number of input features\n",
    "m = 4   # number of samples\n",
    "n1 = 2  # number of neurons in the hidden layer\n",
    "n2 = 1  # number of neurons in the output layer"
   ]
  },
  {
   "cell_type": "markdown",
   "id": "b5b88479",
   "metadata": {},
   "source": [
    "## 1. Forward Propagation"
   ]
  },
  {
   "cell_type": "markdown",
   "id": "717415ee",
   "metadata": {},
   "source": [
    "### 1.1 Forward Propagation Matrices"
   ]
  },
  {
   "cell_type": "markdown",
   "id": "5046730a",
   "metadata": {},
   "source": [
    "### Write down sample matrix, $X$, and target vector, $Y$."
   ]
  },
  {
   "cell_type": "code",
   "execution_count": 174,
   "id": "d36910b5",
   "metadata": {},
   "outputs": [],
   "source": [
    "X = np.array([\n",
    "    [0, 0, 1, 1],\n",
    "    [0, 1, 0, 1]\n",
    "])\n",
    "\n",
    "Y = np.array([\n",
    "    [0, 1, 1, 0]\n",
    "])"
   ]
  },
  {
   "cell_type": "markdown",
   "id": "2e89914a",
   "metadata": {},
   "source": [
    "### Write down weight matrix, $W^{[1]}$, and the bias vector, $b^{[1]}$ for the hidden layer."
   ]
  },
  {
   "cell_type": "code",
   "execution_count": 175,
   "id": "4fd2357f",
   "metadata": {},
   "outputs": [],
   "source": [
    "W1 = np.array([\n",
    "    [3, 2],\n",
    "    [4, 5]\n",
    "])\n",
    "\n",
    "b1 = np.array([[-1], [-2]])"
   ]
  },
  {
   "cell_type": "markdown",
   "id": "3e9db46b",
   "metadata": {},
   "source": [
    "### Write down weight matrix, $W^{[2]}$, and the bias vector, $b^{[2]}$ for the output layer."
   ]
  },
  {
   "cell_type": "code",
   "execution_count": 176,
   "id": "18e2300e",
   "metadata": {},
   "outputs": [],
   "source": [
    "W2 = np.array([\n",
    "    [7, -6]\n",
    "])\n",
    "\n",
    "b2 = np.array([\n",
    "    [-3]\n",
    "])"
   ]
  },
  {
   "cell_type": "markdown",
   "id": "e9443d74",
   "metadata": {},
   "source": [
    "### 1.2 Weighted Sum and Activation Output for Each Neuron"
   ]
  },
  {
   "cell_type": "markdown",
   "id": "d5673fa7",
   "metadata": {},
   "source": [
    "### Calculate $Z^{[1]}$ and $A^{[1]}$ for the hidden layer. The activation function is Sigmoid."
   ]
  },
  {
   "cell_type": "code",
   "execution_count": 177,
   "id": "616fd347",
   "metadata": {},
   "outputs": [
    {
     "name": "stdout",
     "output_type": "stream",
     "text": [
      "Z1 = [[-1  1  2  4]\n",
      " [-2  3  2  7]]\n",
      "A1 = [[0.26894142 0.73105858 0.88079708 0.98201379]\n",
      " [0.11920292 0.95257413 0.88079708 0.99908895]]\n"
     ]
    }
   ],
   "source": [
    "Z1 = np.dot(W1, X) + b1\n",
    "A1 = sigmoid(Z1)\n",
    "\n",
    "print(f'Z1 = {Z1}\\nA1 = {A1}')\n"
   ]
  },
  {
   "cell_type": "markdown",
   "id": "156cf849",
   "metadata": {},
   "source": [
    "### Calculate $Z^{[2]}$ and $A^{[2]}$ for the output layer. The activation function is Sigmoid."
   ]
  },
  {
   "cell_type": "code",
   "execution_count": 178,
   "id": "0320f0a9",
   "metadata": {},
   "outputs": [
    {
     "name": "stdout",
     "output_type": "stream",
     "text": [
      "Z2 = [[-1.83262758 -3.59803471 -2.11920292 -2.12043716]]\n",
      "A2 = [[0.13792555 0.02664792 0.10724436 0.10712625]]\n"
     ]
    }
   ],
   "source": [
    "Z2 = np.dot(W2, A1) + b2\n",
    "A2 = sigmoid(Z2)\n",
    "\n",
    "print(f'Z2 = {Z2}\\nA2 = {A2}')"
   ]
  },
  {
   "cell_type": "markdown",
   "id": "735efcf0",
   "metadata": {},
   "source": [
    "### Based on the values of $A^{[2]}$, what are the predicted target values, $\\hat{Y}=\\{\\hat{y}^{(1)}, \\hat{y}^{(2)},\\hat{y}^{(3)}, \\hat{y}^{(4)} \\}$?"
   ]
  },
  {
   "cell_type": "code",
   "execution_count": 179,
   "id": "af672c82",
   "metadata": {},
   "outputs": [
    {
     "name": "stdout",
     "output_type": "stream",
     "text": [
      "[[0. 0. 0. 0.]]\n"
     ]
    }
   ],
   "source": [
    "Y_hat = np.round(A2)\n",
    "print(Y_hat)"
   ]
  },
  {
   "cell_type": "markdown",
   "id": "2cc44c7e",
   "metadata": {},
   "source": [
    "### 1.3 Calculate the cost function, $J(W, b)$."
   ]
  },
  {
   "cell_type": "code",
   "execution_count": 180,
   "id": "9d210b21",
   "metadata": {},
   "outputs": [
    {
     "data": {
      "text/plain": [
       "array([[1.52985329]])"
      ]
     },
     "execution_count": 180,
     "metadata": {},
     "output_type": "execute_result"
    }
   ],
   "source": [
    "J = -(1/m) * (np.dot(Y, (np.log(A2)).transpose()) + np.dot((1-Y), np.log(1-A2).transpose()))\n",
    "J"
   ]
  },
  {
   "cell_type": "markdown",
   "id": "281b8170",
   "metadata": {},
   "source": [
    "## 2. Back Propagation (One Iteration)"
   ]
  },
  {
   "cell_type": "markdown",
   "id": "0f28862f",
   "metadata": {},
   "source": [
    "### Calculate $dZ^{[2]}, dW^{[2]}, db^{[2]}$ for the output layer. Please print your answers."
   ]
  },
  {
   "cell_type": "code",
   "execution_count": 181,
   "id": "e810d3bc",
   "metadata": {},
   "outputs": [
    {
     "name": "stdout",
     "output_type": "stream",
     "text": [
      "dZ2 = [[ 0.13792555 -0.97335208 -0.89275564  0.10712625]]\n",
      "dW2 = [[-0.33890515 -0.3975142 ]]\n",
      "db2 = [[-0.40526398]]\n"
     ]
    }
   ],
   "source": [
    "dZ2 = A2 - Y\n",
    "\n",
    "dW2 = (1/m)*(np.dot(dZ2, A1.transpose()))\n",
    "\n",
    "db2 = (1/m)*(np.sum(dZ2, axis=1, keepdims=True))\n",
    "\n",
    "print(f'dZ2 = {dZ2}\\ndW2 = {dW2}\\ndb2 = {db2}')"
   ]
  },
  {
   "cell_type": "markdown",
   "id": "ff29555a",
   "metadata": {},
   "source": [
    "### Calculate $dZ^{[1]}, dW^{[1]}, db^{[1]}$ for the hidden layer. Remember the activation function is sigmoid. Please print your results."
   ]
  },
  {
   "cell_type": "code",
   "execution_count": 182,
   "id": "092f7254",
   "metadata": {},
   "outputs": [
    {
     "name": "stdout",
     "output_type": "stream",
     "text": [
      "dZ1 = [[ 1.89824664e-01 -1.33960844e+00 -6.56135308e-01  1.32449762e-02]\n",
      " [-8.68877886e-02  2.63836774e-01  5.62401692e-01 -5.85051483e-04]]\n",
      "dW1 = [[-0.16072258 -0.33159087]\n",
      " [ 0.14045416  0.06581293]]\n",
      "db1 = [[-0.44816853]\n",
      " [ 0.18469141]]\n"
     ]
    }
   ],
   "source": [
    "dZ1 = np.dot(W2.transpose(), dZ2) * dsigmoid(Z1)\n",
    "\n",
    "dW1 = (1/m) * np.dot(dZ1, X.transpose())\n",
    "\n",
    "db1 = (1/m)*(np.sum(dZ1, axis=1, keepdims=True))\n",
    "\n",
    "print(f'dZ1 = {dZ1}\\ndW1 = {dW1}\\ndb1 = {db1}')\n"
   ]
  },
  {
   "cell_type": "markdown",
   "id": "41c2b520",
   "metadata": {},
   "source": [
    "## 3. Run Gradient Descent to Find Optimum Weights\n",
    "\n",
    "In this section, you will write NumPy codes to implement equations for forward and back propagation to compute the gradient descent algorithm and find the optimum weight. \n",
    "\n",
    "__You will run two cases: one with Sigmoid activation and one with tanh activation, both in the hidden layer.__"
   ]
  },
  {
   "cell_type": "markdown",
   "id": "bc3b3963",
   "metadata": {},
   "source": [
    "### Case 1: Sigmoid activation for the hidden layer"
   ]
  },
  {
   "cell_type": "markdown",
   "id": "91c34e40",
   "metadata": {},
   "source": [
    "### Set up hyperparameters\n",
    "\n",
    "- <font color='maroon'>Learning Rate: Experiment with different values of the learning rate. Start with a small value (e.g., 0.05) and gradually increase or decrease.\n",
    "- Number of Iterations: Vary the number of iterations (epochs) for training. Begin with a moderate number (e.g., 1000) and adjust accordingly. \n",
    "- Random Initialization: Avoid initializing weights to zero. Randomize the initial values to prevent symmetries during training.</font>"
   ]
  },
  {
   "cell_type": "code",
   "execution_count": 183,
   "id": "caa3e548",
   "metadata": {},
   "outputs": [],
   "source": [
    "alpha = 0.5  # learning rate\n",
    "epoch = 30000        # number of iteration\n",
    "\n",
    "## random initialization of weights and biases\n",
    "W1 = np.random.randn(n1, n)\n",
    "b1 = np.zeros((n1, 1))\n",
    "W2 = np.random.randn(n2, n1)\n",
    "b2 = np.zeros((n2, 1))"
   ]
  },
  {
   "cell_type": "markdown",
   "id": "38dc5ebc",
   "metadata": {},
   "source": [
    "### Save the initial random weights for Case 2."
   ]
  },
  {
   "cell_type": "code",
   "execution_count": 184,
   "id": "e936a3c8",
   "metadata": {},
   "outputs": [],
   "source": [
    "W1_i, b1_i, W2_i, b2_i = W1, b1, W2, b2"
   ]
  },
  {
   "cell_type": "markdown",
   "id": "c284e4ff",
   "metadata": {},
   "source": [
    "### Run Gradient Descent\n",
    "\n",
    "<font color='maroon'> For each epoch, you will execute the following:\n",
    "* Forward propagation\n",
    "* Calculate the cost function, $J(W,b)$, and store it in an array\n",
    "* Backward propagation\n",
    "* Update the weights for each layer\n",
    "</font>"
   ]
  },
  {
   "cell_type": "code",
   "execution_count": 185,
   "id": "00378f69",
   "metadata": {},
   "outputs": [],
   "source": [
    "J_history = []     # Initialize an array to save the cost\n",
    "\n",
    "for i in range(epoch):\n",
    "\n",
    "    # Forward progagation. Write your code.\n",
    "    Z1 = np.dot(W1, X) + b1\n",
    "    A1 = sigmoid(Z1)    \n",
    "    \n",
    "    Z2 = np.dot(W2, A1) + b2\n",
    "    A2 = sigmoid(Z2)\n",
    "    \n",
    "    # Calculate and save the cost. Write your code.\n",
    "    \n",
    "    J = -(1/m) * (np.dot(Y, (np.log(A2)).transpose()) + np.dot((1-Y), np.log(1-A2).transpose()))\n",
    "    J_history.append(J[0][0])\n",
    "    \n",
    "    # Back progagation. Write your code.\n",
    "    dZ2 = A2 - Y\n",
    "    dW2 = (1/m)*(np.dot(dZ2, A1.transpose()))\n",
    "    db2 = (1/m)*(np.sum(dZ2, axis=1, keepdims=True))\n",
    "    \n",
    "    dZ1 = np.dot(W2.transpose(), dZ2) * dsigmoid(Z1)\n",
    "    dW1 = (1/m) * np.dot(dZ1, X.transpose())\n",
    "    db1 = (1/m)*(np.sum(dZ1, axis=1, keepdims=True))\n",
    "    \n",
    "    # Update weights and biases. Write your code\n",
    "    W1 -= alpha * dW1\n",
    "    b1 -= alpha * db1\n",
    "\n",
    "    W2 -= alpha * dW2\n",
    "    b2 -= alpha * db2\n",
    "    \n",
    "    "
   ]
  },
  {
   "cell_type": "code",
   "execution_count": 186,
   "id": "9561a033",
   "metadata": {},
   "outputs": [
    {
     "data": {
      "image/png": "[encoded data removed]",
      "text/plain": [
       "<Figure size 1200x400 with 2 Axes>"
      ]
     },
     "metadata": {},
     "output_type": "display_data"
    }
   ],
   "source": [
    "# plot cost versus iteration  \n",
    "fig, (ax1, ax2) = plt.subplots(1, 2, constrained_layout=True, figsize=(12,4))\n",
    "ax1.plot(J_history[:200])\n",
    "ax2.plot(1000 + np.arange(len(J_history[1000:])), J_history[1000:])\n",
    "ax1.set_title(\"Cost vs. iteration(start)\");  ax2.set_title(\"Cost vs. iteration (end)\")\n",
    "ax1.set_ylabel('Cost')            ;  ax2.set_ylabel('Cost') \n",
    "ax1.set_xlabel('iteration step')  ;  ax2.set_xlabel('iteration step') \n",
    "plt.show()\n"
   ]
  },
  {
   "cell_type": "markdown",
   "id": "938e7241",
   "metadata": {},
   "source": [
    "### Print the final cost, $A^{[2]}$, and $\\hat{Y}$ (the predicted target values based on $A^{[2]}$)\n",
    "#### <font color='maroon'>Is $\\hat{Y}$ close to $\\{0, 1, 1, 0\\}$?</font> "
   ]
  },
  {
   "cell_type": "markdown",
   "id": "97a3d675",
   "metadata": {},
   "source": [
    "The result is 100% correct, and the cost is also close to 0."
   ]
  },
  {
   "cell_type": "code",
   "execution_count": 187,
   "id": "b8f4a651",
   "metadata": {},
   "outputs": [
    {
     "name": "stdout",
     "output_type": "stream",
     "text": [
      "Final cost = 0.000680\n",
      "A[2] = [[7.95390485e-04 9.99391478e-01 9.99391305e-01 7.05946496e-04]]\n",
      "Predicted output = [[0. 1. 1. 0.]]\n"
     ]
    }
   ],
   "source": [
    "print(f'Final cost = {J_history[-1]:.06F}')\n",
    "\n",
    "print(f'A[2] = {A2}')\n",
    "\n",
    "print(f'Predicted output = {np.round(A2)}')"
   ]
  },
  {
   "cell_type": "markdown",
   "id": "b91e8583",
   "metadata": {},
   "source": [
    "### Print the optimum weights."
   ]
  },
  {
   "cell_type": "code",
   "execution_count": 188,
   "id": "d3e0fffc",
   "metadata": {},
   "outputs": [
    {
     "name": "stdout",
     "output_type": "stream",
     "text": [
      "W1 = [[ 7.4980067  -7.78723617]\n",
      " [-7.94291071  7.69075269]]\n",
      "b1 = [[-4.04229642]\n",
      " [-4.14852629]]\n",
      "W2 = [[15.5229293 15.4838294]]\n",
      "b2 = [[-7.64440845]]\n"
     ]
    }
   ],
   "source": [
    "print (\"W1 =\", W1) \n",
    "print (\"b1 =\", b1)\n",
    "print (\"W2 =\", W2)\n",
    "print (\"b2 =\", b2)"
   ]
  },
  {
   "cell_type": "markdown",
   "id": "309e902b",
   "metadata": {},
   "source": [
    "### Question:<font color='maroon'> Do you notice some interesting patterns in $W^{[1]}$ and $W^{[2]}$?</font> "
   ]
  },
  {
   "cell_type": "markdown",
   "id": "a830c269",
   "metadata": {},
   "source": [
    "Both W1 and W2 have very similar values in their rows. W1's absolute values are close, whereas for W2, the entries in the same row are almost the same."
   ]
  },
  {
   "cell_type": "markdown",
   "id": "e9c7f418",
   "metadata": {},
   "source": [
    "### Case 2: tanh activation for the hidden layer"
   ]
  },
  {
   "cell_type": "markdown",
   "id": "5b89feb8",
   "metadata": {},
   "source": [
    "### Set up hyperparameters\n",
    "\n",
    "#### <font color='maroon'>Use the same learning rate, epoch, and initial weights as you did in Case 1.</font>"
   ]
  },
  {
   "cell_type": "code",
   "execution_count": 189,
   "id": "a87c9626",
   "metadata": {},
   "outputs": [],
   "source": [
    "W1, b1, W2, b2 = W1_i, b1_i, W2_i, b2_i      # Retrieve the initial weights and biases"
   ]
  },
  {
   "cell_type": "code",
   "execution_count": 190,
   "id": "9f808e74",
   "metadata": {},
   "outputs": [],
   "source": [
    "alpha = 0.5   # learning rate\n",
    "epoch = 30000  # number of iterations"
   ]
  },
  {
   "cell_type": "markdown",
   "id": "0ae84022",
   "metadata": {},
   "source": [
    "### Run Gradient Descent\n",
    "\n",
    "<font color='maroon'> Remember to change the activation function, both in forward and back propagation, to tanh.\n",
    "</font>"
   ]
  },
  {
   "cell_type": "code",
   "execution_count": 191,
   "id": "d8b026c9",
   "metadata": {},
   "outputs": [],
   "source": [
    "J1_history = []      # Initialize an array to save the cost\n",
    "\n",
    "for i in range(epoch):\n",
    "\n",
    "    # Forward progagation. Write your code.\n",
    "    Z1 = np.dot(W1, X) + b1\n",
    "    A1 = np.tanh(Z1)    \n",
    "    \n",
    "    Z2 = np.dot(W2, A1) + b2\n",
    "    A2 = sigmoid(Z2)\n",
    "    \n",
    "    \n",
    "    # Calculate and save the cost. Write your code.\n",
    "    J = -(1/m) * (np.dot(Y, (np.log(A2)).transpose()) + np.dot((1-Y), np.log(1-A2).transpose()))\n",
    "    J1_history.append(J[0][0])\n",
    "           \n",
    "    \n",
    "    # Back progagation. Write your code.\n",
    "    dZ2 = A2 - Y\n",
    "    dW2 = (1/m)*(np.dot(dZ2, A1.transpose()))\n",
    "    db2 = (1/m)*(np.sum(dZ2, axis=1, keepdims=True))\n",
    "    \n",
    "    dZ1 = np.dot(W2.transpose(), dZ2) * dtanh(Z1)\n",
    "    dW1 = (1/m) * np.dot(dZ1, X.transpose())\n",
    "    db1 = (1/m)*(np.sum(dZ1, axis=1, keepdims=True))\n",
    "    \n",
    "    # Update weights and biases. Write your code\n",
    "    W1 -= alpha * dW1\n",
    "    b1 -= alpha * db1\n",
    "\n",
    "    W2 -= alpha * dW2\n",
    "    b2 -= alpha * db2\n",
    "    \n",
    "    "
   ]
  },
  {
   "cell_type": "code",
   "execution_count": 192,
   "id": "09dc9ce1",
   "metadata": {},
   "outputs": [
    {
     "data": {
      "image/png": "[encoded data removed]",
      "text/plain": [
       "<Figure size 1200x400 with 2 Axes>"
      ]
     },
     "metadata": {},
     "output_type": "display_data"
    }
   ],
   "source": [
    "# plot cost versus iteration  \n",
    "fig, (ax1, ax2) = plt.subplots(1, 2, constrained_layout=True, figsize=(12,4))\n",
    "ax1.plot(J1_history[:200])\n",
    "ax2.plot(1000 + np.arange(len(J1_history[1000:])), J1_history[1000:])\n",
    "ax1.set_title(\"Cost vs. iteration(start)\");  ax2.set_title(\"Cost vs. iteration (end)\")\n",
    "ax1.set_ylabel('Cost')            ;  ax2.set_ylabel('Cost') \n",
    "ax1.set_xlabel('iteration step')  ;  ax2.set_xlabel('iteration step') \n",
    "plt.show()\n"
   ]
  },
  {
   "cell_type": "markdown",
   "id": "bec05bcf",
   "metadata": {},
   "source": [
    "### Print the final cost, $A^{[2]}$, and $\\hat{Y}$ (the predicted target values based on $A^{[2]}$)\n",
    "#### <font color='maroon'>Is $\\hat{Y}$ close to $\\{0, 1, 1, 0\\}$?</font> "
   ]
  },
  {
   "cell_type": "markdown",
   "id": "a8465372",
   "metadata": {},
   "source": [
    "The predicted output is 100% correct. It is because of the low cost."
   ]
  },
  {
   "cell_type": "code",
   "execution_count": 193,
   "id": "78b1acef",
   "metadata": {},
   "outputs": [
    {
     "name": "stdout",
     "output_type": "stream",
     "text": [
      "Final cost = 0.000067\n",
      "A[2] = [[2.70860439e-10 9.99866460e-01 9.99866461e-01 2.70762400e-10]]\n",
      "Predicted output = [[0. 1. 1. 0.]]\n"
     ]
    }
   ],
   "source": [
    "print(f'Final cost = {J1_history[-1]:.06F}')\n",
    "\n",
    "print(f'A[2] = {A2}')\n",
    "\n",
    "print(f'Predicted output = {np.round(A2)}')"
   ]
  },
  {
   "cell_type": "markdown",
   "id": "faa03248",
   "metadata": {},
   "source": [
    "### Print the optimum weights."
   ]
  },
  {
   "cell_type": "code",
   "execution_count": 194,
   "id": "4e5d7fed",
   "metadata": {},
   "outputs": [
    {
     "name": "stdout",
     "output_type": "stream",
     "text": [
      "W1 = [[ 7.77715748 -7.78723615]\n",
      " [-7.9429107   7.94176458]]\n",
      "b1 = [[-3.76314562]\n",
      " [-3.8975144 ]]\n",
      "W2 = [[15.49497384 15.49467492]]\n",
      "b2 = [[8.93082302]]\n"
     ]
    }
   ],
   "source": [
    "print (\"W1 =\", W1) \n",
    "print (\"b1 =\", b1)\n",
    "print (\"W2 =\", W2)\n",
    "print (\"b2 =\", b2)"
   ]
  },
  {
   "cell_type": "markdown",
   "id": "ca83d813",
   "metadata": {},
   "source": [
    "### If you successfully save the costs for both cases ($J$ and $J1$), use the following code to plot cost vs. iteration and make a comparison. "
   ]
  },
  {
   "cell_type": "markdown",
   "id": "1938c6bd",
   "metadata": {},
   "source": [
    "### Compare the cost function convergence between the two cases."
   ]
  },
  {
   "cell_type": "code",
   "execution_count": 195,
   "id": "38725b6e",
   "metadata": {},
   "outputs": [
    {
     "data": {
      "image/png": "[encoded data removed]",
      "text/plain": [
       "<Figure size 1000x700 with 1 Axes>"
      ]
     },
     "metadata": {},
     "output_type": "display_data"
    }
   ],
   "source": [
    "plt.figure(figsize=(10,7))\n",
    "plt.plot(J_history, color='DodgerBlue', label='Activation = Sigmoid')\n",
    "plt.plot(J1_history, color='orange', label='Activation = tanh')\n",
    "\n",
    "plt.xscale('log')\n",
    "plt.yscale('log')\n",
    "plt.legend()\n",
    "plt.grid()\n",
    "plt.show()"
   ]
  },
  {
   "cell_type": "markdown",
   "id": "d7f54ea8",
   "metadata": {},
   "source": [
    "### Question:<font color='maroon'> What is your observation? </font>"
   ]
  },
  {
   "cell_type": "markdown",
   "id": "dec2ef5a",
   "metadata": {},
   "source": [
    "The sigmoid function had a constant cost till around 3000 iterations, and then the cost starts to decrease. For tanh, however, the cost starts to decrease after the first few epochs. tanh's cost is decreasing linearly, whereas, for sigmoid, the cost is decreasing exponentially."
   ]
  }
 ],
 "metadata": {
  "kernelspec": {
   "display_name": "Python 3",
   "language": "python",
   "name": "python3"
  },
  "language_info": {
   "codemirror_mode": {
    "name": "ipython",
    "version": 3
   },
   "file_extension": ".py",
   "mimetype": "text/x-python",
   "name": "python",
   "nbconvert_exporter": "python",
   "pygments_lexer": "ipython3",
   "version": "3.11.4"
  }
 },
 "nbformat": 4,
 "nbformat_minor": 5
}
